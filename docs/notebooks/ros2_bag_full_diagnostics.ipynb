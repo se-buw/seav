{
 "cells": [
  {
   "cell_type": "markdown",
   "id": "bfbd94c6",
   "metadata": {},
   "source": [
    "# 🧪 ROS 2 Bag File Diagnostic Suite for SLAM & Navigation2"
   ]
  },
  {
   "cell_type": "code",
   "execution_count": null,
   "id": "ec93d010",
   "metadata": {},
   "outputs": [],
   "source": [
    "bag_path = \"/absolute/path/to/your_bag_folder\"  # Change this to your actual bag path"
   ]
  },
  {
   "cell_type": "code",
   "execution_count": null,
   "id": "11eda3e9",
   "metadata": {},
   "outputs": [],
   "source": [
    "\n",
    "import pandas as pd\n",
    "import matplotlib.pyplot as plt\n",
    "from rosbag2_py import SequentialReader, StorageOptions, ConverterOptions\n",
    "from rclpy.serialization import deserialize_message\n",
    "from nav_msgs.msg import Odometry\n",
    "from sensor_msgs.msg import Imu, LaserScan\n",
    "import numpy as np\n"
   ]
  },
  {
   "cell_type": "code",
   "execution_count": null,
   "id": "5a9560cc",
   "metadata": {},
   "outputs": [],
   "source": [
    "\n",
    "def list_all_topics(bag_path):\n",
    "    storage_options = StorageOptions(uri=bag_path, storage_id='sqlite3')\n",
    "    converter_options = ConverterOptions(input_serialization_format='cdr', output_serialization_format='cdr')\n",
    "    reader = SequentialReader()\n",
    "    reader.open(storage_options, converter_options)\n",
    "    return reader.get_all_topics_and_types()\n",
    "\n",
    "list_all_topics(bag_path)\n"
   ]
  },
  {
   "cell_type": "code",
   "execution_count": null,
   "id": "20712fd7",
   "metadata": {},
   "outputs": [],
   "source": [
    "\n",
    "def read_odom_from_bag(bag_path):\n",
    "    storage_options = StorageOptions(uri=bag_path, storage_id='sqlite3')\n",
    "    converter_options = ConverterOptions(input_serialization_format='cdr', output_serialization_format='cdr')\n",
    "    reader = SequentialReader()\n",
    "    reader.open(storage_options, converter_options)\n",
    "\n",
    "    odom_data = []\n",
    "    while reader.has_next():\n",
    "        topic, data, timestamp = reader.read_next()\n",
    "        if topic == \"/odom\":\n",
    "            msg = deserialize_message(data, Odometry)\n",
    "            odom_data.append({\n",
    "                't': timestamp * 1e-9,\n",
    "                'x': msg.pose.pose.position.x,\n",
    "                'y': msg.pose.pose.position.y,\n",
    "                'v_x': msg.twist.twist.linear.x,\n",
    "                'angular_z': msg.twist.twist.angular.z\n",
    "            })\n",
    "    return pd.DataFrame(odom_data)\n"
   ]
  },
  {
   "cell_type": "code",
   "execution_count": null,
   "id": "711ddf2d",
   "metadata": {},
   "outputs": [],
   "source": [
    "df_odom = read_odom_from_bag(bag_path)\n",
    "df_odom.head()"
   ]
  },
  {
   "cell_type": "code",
   "execution_count": null,
   "id": "5c11a10d",
   "metadata": {},
   "outputs": [],
   "source": [
    "\n",
    "plt.figure(figsize=(6,6))\n",
    "plt.plot(df_odom['x'], df_odom['y'], label='Trajectory')\n",
    "plt.xlabel('X (m)')\n",
    "plt.ylabel('Y (m)')\n",
    "plt.title('Robot Path from /odom')\n",
    "plt.grid()\n",
    "plt.axis(\"equal\")\n",
    "plt.legend()\n",
    "plt.show()\n"
   ]
  },
  {
   "cell_type": "code",
   "execution_count": null,
   "id": "2c1b7bc5",
   "metadata": {},
   "outputs": [],
   "source": [
    "\n",
    "plt.figure(figsize=(10, 4))\n",
    "plt.plot(df_odom['t'], df_odom['v_x'], label='Linear X')\n",
    "plt.plot(df_odom['t'], df_odom['angular_z'], label='Angular Z')\n",
    "plt.title(\"Odometry Velocities\")\n",
    "plt.xlabel(\"Time [s]\")\n",
    "plt.ylabel(\"Velocity (m/s or rad/s)\")\n",
    "plt.legend()\n",
    "plt.grid()\n",
    "plt.show()\n"
   ]
  },
  {
   "cell_type": "code",
   "execution_count": null,
   "id": "967931fa",
   "metadata": {},
   "outputs": [],
   "source": [
    "\n",
    "def read_imu_from_bag(bag_path):\n",
    "    storage_options = StorageOptions(uri=bag_path, storage_id='sqlite3')\n",
    "    converter_options = ConverterOptions(input_serialization_format='cdr', output_serialization_format='cdr')\n",
    "    reader = SequentialReader()\n",
    "    reader.open(storage_options, converter_options)\n",
    "\n",
    "    imu_data = []\n",
    "    while reader.has_next():\n",
    "        topic, data, timestamp = reader.read_next()\n",
    "        if topic == \"/imu/data\":\n",
    "            msg = deserialize_message(data, Imu)\n",
    "            imu_data.append({\n",
    "                't': timestamp * 1e-9,\n",
    "                'angular_z': msg.angular_velocity.z,\n",
    "                'acc_x': msg.linear_acceleration.x,\n",
    "                'acc_y': msg.linear_acceleration.y\n",
    "            })\n",
    "    return pd.DataFrame(imu_data)\n"
   ]
  },
  {
   "cell_type": "code",
   "execution_count": null,
   "id": "b947c646",
   "metadata": {},
   "outputs": [],
   "source": [
    "df_imu = read_imu_from_bag(bag_path)\n",
    "df_imu.head()"
   ]
  },
  {
   "cell_type": "code",
   "execution_count": null,
   "id": "623186fb",
   "metadata": {},
   "outputs": [],
   "source": [
    "\n",
    "plt.figure(figsize=(10, 4))\n",
    "plt.plot(df_imu['t'], df_imu['angular_z'], label='Gyro Z')\n",
    "plt.xlabel(\"Time [s]\")\n",
    "plt.ylabel(\"Angular Velocity Z (rad/s)\")\n",
    "plt.title(\"IMU Angular Velocity Over Time\")\n",
    "plt.grid()\n",
    "plt.legend()\n",
    "plt.show()\n"
   ]
  },
  {
   "cell_type": "code",
   "execution_count": null,
   "id": "166577a0",
   "metadata": {},
   "outputs": [],
   "source": [
    "\n",
    "def read_scan_from_bag(bag_path):\n",
    "    storage_options = StorageOptions(uri=bag_path, storage_id='sqlite3')\n",
    "    converter_options = ConverterOptions(input_serialization_format='cdr', output_serialization_format='cdr')\n",
    "    reader = SequentialReader()\n",
    "    reader.open(storage_options, converter_options)\n",
    "\n",
    "    scan_ranges = []\n",
    "    while reader.has_next():\n",
    "        topic, data, timestamp = reader.read_next()\n",
    "        if topic == \"/scan\":\n",
    "            msg = deserialize_message(data, LaserScan)\n",
    "            mean_range = np.mean(msg.ranges)\n",
    "            scan_ranges.append({\n",
    "                't': timestamp * 1e-9,\n",
    "                'mean_range': mean_range\n",
    "            })\n",
    "    return pd.DataFrame(scan_ranges)\n"
   ]
  },
  {
   "cell_type": "code",
   "execution_count": null,
   "id": "1e668c96",
   "metadata": {},
   "outputs": [],
   "source": [
    "df_scan = read_scan_from_bag(bag_path)\n",
    "df_scan.head()"
   ]
  },
  {
   "cell_type": "code",
   "execution_count": null,
   "id": "fcada8d8",
   "metadata": {},
   "outputs": [],
   "source": [
    "\n",
    "plt.figure(figsize=(10, 4))\n",
    "plt.plot(df_scan['t'], df_scan['mean_range'], label='Mean Range')\n",
    "plt.xlabel(\"Time [s]\")\n",
    "plt.ylabel(\"Mean Lidar Distance [m]\")\n",
    "plt.title(\"Mean Lidar Distance vs Time\")\n",
    "plt.grid()\n",
    "plt.legend()\n",
    "plt.show()\n"
   ]
  },
  {
   "cell_type": "code",
   "execution_count": null,
   "id": "3ab730d5",
   "metadata": {},
   "outputs": [],
   "source": [
    "\n",
    "plt.figure(figsize=(10, 4))\n",
    "plt.plot(df_odom['t'], label='odom')\n",
    "plt.plot(df_imu['t'], label='imu')\n",
    "plt.plot(df_scan['t'], label='scan')\n",
    "plt.title(\"Timestamps of Topics\")\n",
    "plt.xlabel(\"Index\")\n",
    "plt.ylabel(\"Time [s]\")\n",
    "plt.legend()\n",
    "plt.grid()\n",
    "plt.show()\n"
   ]
  }
 ],
 "metadata": {},
 "nbformat": 4,
 "nbformat_minor": 5
}
