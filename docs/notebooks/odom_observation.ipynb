{
 "cells": [
  {
   "cell_type": "code",
   "execution_count": null,
   "metadata": {
    "vscode": {
     "languageId": "plaintext"
    }
   },
   "outputs": [],
   "source": [
    "import os\n",
    "import pandas as pd\n",
    "import matplotlib.pyplot as plt\n",
    "from rosbag2_py import SequentialReader, StorageOptions, ConverterOptions\n",
    "from rclpy.serialization import deserialize_message\n",
    "from nav_msgs.msg import Odometry\n",
    "import rclpy\n"
   ]
  },
  {
   "cell_type": "code",
   "execution_count": null,
   "metadata": {
    "vscode": {
     "languageId": "plaintext"
    }
   },
   "outputs": [],
   "source": [
    "def read_odom_messages(bag_path):\n",
    "    storage_options = StorageOptions(uri=bag_path, storage_id='sqlite3')\n",
    "    converter_options = ConverterOptions(input_serialization_format='cdr', output_serialization_format='cdr')\n",
    "\n",
    "    reader = SequentialReader()\n",
    "    reader.open(storage_options, converter_options)\n",
    "    topics = reader.get_all_topics_and_types()\n",
    "\n",
    "    odom_msgs = []\n",
    "    while reader.has_next():\n",
    "        (topic, data, t) = reader.read_next()\n",
    "        if topic == '/odom':\n",
    "            msg = deserialize_message(data, Odometry)\n",
    "            odom_msgs.append({\n",
    "                'timestamp': t * 1e-9,\n",
    "                'x': msg.pose.pose.position.x,\n",
    "                'y': msg.pose.pose.position.y,\n",
    "                'z': msg.pose.pose.position.z,\n",
    "                'linear_x': msg.twist.twist.linear.x,\n",
    "                'angular_z': msg.twist.twist.angular.z\n",
    "            })\n",
    "\n",
    "    return pd.DataFrame(odom_msgs)\n"
   ]
  },
  {
   "cell_type": "code",
   "execution_count": null,
   "metadata": {
    "vscode": {
     "languageId": "plaintext"
    }
   },
   "outputs": [],
   "source": [
    "bag_path = \"/path/to/your/ros2_bag_folder\"  # Folder, not the .db3 file\n",
    "df_odom = read_odom_messages(bag_path)\n",
    "df_odom.head()\n"
   ]
  },
  {
   "cell_type": "code",
   "execution_count": null,
   "metadata": {
    "vscode": {
     "languageId": "plaintext"
    }
   },
   "outputs": [],
   "source": [
    "plt.figure(figsize=(10, 4))\n",
    "plt.plot(df_odom['timestamp'], df_odom['x'], label='X')\n",
    "plt.plot(df_odom['timestamp'], df_odom['y'], label='Y')\n",
    "plt.xlabel(\"Time [s]\")\n",
    "plt.ylabel(\"Position [m]\")\n",
    "plt.legend()\n",
    "plt.title(\"Odometry Position Over Time\")\n",
    "plt.grid()\n",
    "plt.show()\n"
   ]
  },
  {
   "cell_type": "code",
   "execution_count": null,
   "metadata": {
    "vscode": {
     "languageId": "plaintext"
    }
   },
   "outputs": [],
   "source": [
    "plt.figure(figsize=(6, 6))\n",
    "plt.plot(df_odom['x'], df_odom['y'], label=\"Path\")\n",
    "plt.xlabel(\"X [m]\")\n",
    "plt.ylabel(\"Y [m]\")\n",
    "plt.title(\"2D Robot Path from /odom\")\n",
    "plt.grid()\n",
    "plt.axis(\"equal\")\n",
    "plt.legend()\n",
    "plt.show()\n"
   ]
  },
  {
   "cell_type": "code",
   "execution_count": null,
   "metadata": {
    "vscode": {
     "languageId": "plaintext"
    }
   },
   "outputs": [],
   "source": [
    "plt.figure(figsize=(10, 4))\n",
    "plt.plot(df_odom['timestamp'], df_odom['linear_x'], label='Linear X Velocity')\n",
    "plt.plot(df_odom['timestamp'], df_odom['angular_z'], label='Angular Z Velocity')\n",
    "plt.xlabel(\"Time [s]\")\n",
    "plt.ylabel(\"Velocity [m/s] or [rad/s]\")\n",
    "plt.legend()\n",
    "plt.title(\"Odometry Velocity Over Time\")\n",
    "plt.grid()\n",
    "plt.show()\n"
   ]
  },
  {
   "cell_type": "markdown",
   "metadata": {},
   "source": [
    "If the Map is Not Growing in RViz:\n",
    "|__Checkpoint | \tExpected Sign\n",
    "|/odom topic rate  |\t~10 Hz or consistent timestamps\n",
    "|x, y, theta changes over time |\tValues must change if robot is moving\n",
    "|Linear/Angular velocities non-zero |\tShould spike during motion\n",
    "|TF Tree\t| Must have odom → base_link → sensor\n",
    "|Lidar Scan Topic /scan |\tConfirm scan is active + non-zero ranges\n",
    "|SLAM Toolbox Input |\tUses TF + /scan → if /odom wrong, SLAM gets confused\n",
    "|No conflicting TFs |\tUse ros2 run tf2_tools view_frames to debug\n"
   ]
  }
 ],
 "metadata": {
  "language_info": {
   "name": "python"
  }
 },
 "nbformat": 4,
 "nbformat_minor": 2
}
